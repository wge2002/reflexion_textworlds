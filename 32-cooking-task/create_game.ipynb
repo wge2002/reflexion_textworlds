{
 "cells": [
  {
   "cell_type": "code",
   "execution_count": 1,
   "metadata": {},
   "outputs": [
    {
     "name": "stderr",
     "output_type": "stream",
     "text": [
      "'tw-make' �����ڲ����ⲿ���Ҳ���ǿ����еĳ���\n",
      "���������ļ���\n",
      "'tw-make' �����ڲ����ⲿ���Ҳ���ǿ����еĳ���\n",
      "���������ļ���\n",
      "'tw-make' �����ڲ����ⲿ���Ҳ���ǿ����еĳ���\n",
      "���������ļ���\n"
     ]
    }
   ],
   "source": [
    "# easy: \n",
    "!tw-make tw-cooking --recipe 1 --take 0 --go 6 --open --cook --cut --output ./game_0_4.ulx -f -v --seed 4001\n",
    "!tw-make tw-cooking --recipe 1 --take 0 --go 6 --open --cook --cut --output ./game_0_5.ulx -f -v --seed 5001\n",
    "!tw-make tw-cooking --recipe 1 --take 0 --go 6 --open --cook --cut --output ./game_0_6.ulx -f -v --seed 6001"
   ]
  },
  {
   "cell_type": "code",
   "execution_count": 2,
   "metadata": {},
   "outputs": [
    {
     "name": "stderr",
     "output_type": "stream",
     "text": [
      "'tw-make' �����ڲ����ⲿ���Ҳ���ǿ����еĳ���\n",
      "���������ļ���\n",
      "'tw-make' �����ڲ����ⲿ���Ҳ���ǿ����еĳ���\n",
      "���������ļ���\n",
      "'tw-make' �����ڲ����ⲿ���Ҳ���ǿ����еĳ���\n",
      "���������ļ���\n"
     ]
    }
   ],
   "source": [
    "# mid: \n",
    "!tw-make tw-cooking --recipe 2 --take 1 --go 9 --open --cook --cut --output ./game_1_4.ulx -f -v --seed 4001\n",
    "!tw-make tw-cooking --recipe 2 --take 1 --go 9 --open --cook --cut --output ./game_1_5.ulx -f -v --seed 5001\n",
    "!tw-make tw-cooking --recipe 2 --take 1 --go 9 --open --cook --cut --output ./game_1_6.ulx -f -v --seed 6002"
   ]
  },
  {
   "cell_type": "code",
   "execution_count": 3,
   "metadata": {},
   "outputs": [
    {
     "name": "stderr",
     "output_type": "stream",
     "text": [
      "'tw-make' �����ڲ����ⲿ���Ҳ���ǿ����еĳ���\n",
      "���������ļ���\n",
      "'tw-make' �����ڲ����ⲿ���Ҳ���ǿ����еĳ���\n",
      "���������ļ���\n",
      "'tw-make' �����ڲ����ⲿ���Ҳ���ǿ����еĳ���\n",
      "���������ļ���\n"
     ]
    }
   ],
   "source": [
    "# hard: \n",
    "!tw-make tw-cooking --recipe 3 --take 2 --go 9 --open --cook --cut --output ./game_2_4.ulx -f -v --seed 40001\n",
    "!tw-make tw-cooking --recipe 3 --take 2 --go 9 --open --cook --cut --output ./game_2_5.ulx -f -v --seed 50002\n",
    "!tw-make tw-cooking --recipe 3 --take 2 --go 9 --open --cook --cut --output ./game_2_6.ulx -f -v --seed 60003"
   ]
  },
  {
   "cell_type": "code",
   "execution_count": 4,
   "metadata": {},
   "outputs": [
    {
     "name": "stderr",
     "output_type": "stream",
     "text": [
      "'tw-make' �����ڲ����ⲿ���Ҳ���ǿ����еĳ���\n",
      "���������ļ���\n",
      "'tw-make' �����ڲ����ⲿ���Ҳ���ǿ����еĳ���\n",
      "���������ļ���\n",
      "'tw-make' �����ڲ����ⲿ���Ҳ���ǿ����еĳ���\n",
      "���������ļ���\n"
     ]
    }
   ],
   "source": [
    "# EXTREM: \n",
    "!tw-make tw-cooking --recipe 4 --take 3 --go 12 --open --cook --cut --output ./game_3_4.ulx -f -v --seed 401\n",
    "!tw-make tw-cooking --recipe 4 --take 3 --go 12 --open --cook --cut --output ./game_3_5.ulx -f -v --seed 502\n",
    "!tw-make tw-cooking --recipe 4 --take 3 --go 12 --open --cook --cut --output ./game_3_6.ulx -f -v --seed 603"
   ]
  }
 ],
 "metadata": {
  "kernelspec": {
   "display_name": "Python 3",
   "language": "python",
   "name": "python3"
  },
  "language_info": {
   "codemirror_mode": {
    "name": "ipython",
    "version": 3
   },
   "file_extension": ".py",
   "mimetype": "text/x-python",
   "name": "python",
   "nbconvert_exporter": "python",
   "pygments_lexer": "ipython3",
   "version": "3.11.3"
  }
 },
 "nbformat": 4,
 "nbformat_minor": 2
}
