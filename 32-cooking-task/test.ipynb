{
 "cells": [
  {
   "cell_type": "code",
   "execution_count": 2,
   "metadata": {},
   "outputs": [
    {
     "name": "stdout",
     "output_type": "stream",
     "text": [
      "Global seed: 114514\n",
      "Game generated: /mnt/c/Users/Administrator/Desktop/RoboticRAG/9-cooking-task/game_1_test.ulx\n",
      "\n",
      "Objective:\n",
      "You are hungry! Let's cook a delicious meal. Check the cookbook in the kitchen for the recipe. Once done, enjoy your meal!\n",
      "\n",
      "Walkthrough:\n",
      "inventory > open patio door > go north > examine cookbook > drop yellow apple > drop orange bell pepper > open fridge > take pork chop from fridge > cook pork chop with oven > cook yellow bell pepper with oven > take knife from counter > slice pork chop with knife > drop knife > take knife > dice yellow bell pepper with knife > drop knife > prepare meal > eat meal\n",
      "\n",
      "-= Stats =-\n",
      "Nb. locations: 9\n",
      "Nb. objects: 25\n"
     ]
    }
   ],
   "source": [
    "!tw-make tw-cooking --recipe 2 --take 1 --go 9 --open --cook --cut --output ./game_1_test.ulx -f -v --seed 114514"
   ]
  }
 ],
 "metadata": {
  "kernelspec": {
   "display_name": "Python 3",
   "language": "python",
   "name": "python3"
  },
  "language_info": {
   "codemirror_mode": {
    "name": "ipython",
    "version": 3
   },
   "file_extension": ".py",
   "mimetype": "text/x-python",
   "name": "python",
   "nbconvert_exporter": "python",
   "pygments_lexer": "ipython3",
   "version": "3.10.12"
  }
 },
 "nbformat": 4,
 "nbformat_minor": 2
}
